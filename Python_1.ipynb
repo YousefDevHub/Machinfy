{
 "cells": [
  {
   "cell_type": "markdown",
   "id": "04859a34-b85b-4dab-abf5-15f7b8b78ec3",
   "metadata": {},
   "source": [
    "# <div align=\"center\" style=\"color:#f0c020;\">Why Use Python in Data Science?</div>"
   ]
  },
  {
   "cell_type": "markdown",
   "id": "8bf7c95d-a242-492c-a26b-0cf3f72f32d3",
   "metadata": {},
   "source": [
    "<div style=\"text-align: center;\">\n",
    "  <img src=\"python.png\" alt=\"Example Image\" style=\"width: 300px; height: auto;\">\n",
    "</div>"
   ]
  },
  {
   "cell_type": "markdown",
   "id": "30f2ddf6-6ff8-4a84-8172-81803d24b10d",
   "metadata": {},
   "source": [
    "Python is widely used in data science for several key reasons:\n",
    "\n",
    "1. **Ease of Use and Readability**  \n",
    "   Python’s simple and intuitive syntax makes it easy for data scientists to quickly learn and apply it to data-related tasks. This clarity helps reduce errors and facilitates collaboration among team members.\n",
    "\n",
    "2. **Vast Libraries and Frameworks**  \n",
    "   Python offers a rich ecosystem of libraries and tools tailored for data science. For example:\n",
    "   - **NumPy** and **Pandas** simplify data manipulation and analysis.\n",
    "   - **Matplotlib** and **Seaborn** are excellent for data visualization.\n",
    "   - **Scikit-learn** provides tools for machine learning.\n",
    "   - **TensorFlow** and **PyTorch** facilitate deep learning tasks.\n",
    "\n",
    "3. **Community Support**  \n",
    "   Python has a large and active community, which means an abundance of resources such as tutorials, forums, and open-source contributions. This community support makes it easier to find solutions to problems and learn best practices.\n",
    "\n",
    "4. **Integration Capabilities**  \n",
    "   Python integrates seamlessly with other technologies and databases. It supports data processing workflows that involve data ingestion, transformation, and storage, making it a great choice for end-to-end data science projects.\n",
    "\n",
    "5. **Support for Automation and Data Pipelines**  \n",
    "   Python’s flexibility allows it to be used not only for analysis but also for building data pipelines and automating data science workflows.\n",
    "\n",
    "6. **Flexibility and Versatility**  \n",
    "   Python is versatile and can handle a variety of tasks such as data cleaning, statistical analysis, web scraping, automation, and even production-level deployment of machine learning models.\n",
    "\n",
    "7. **Open Source**  \n",
    "   As an open-source language, Python is free to use and modify, which makes it an accessible option for individuals and businesses without licensing costs.\n",
    "\n",
    "These characteristics make Python a preferred language for data scientists and a popular tool for solving complex data problems.\n"
   ]
  },
  {
   "cell_type": "markdown",
   "id": "324fe78a-b7fa-4d2c-9480-83ba2e7fb042",
   "metadata": {},
   "source": [
    "___\r\n"
   ]
  },
  {
   "cell_type": "markdown",
   "id": "55d15249-7c43-4e81-a081-0a40c8f397c1",
   "metadata": {},
   "source": [
    "# <div align=\"center\" style=\"color:#f0c020;\">Compiler vs Interpreter</div>"
   ]
  },
  {
   "cell_type": "markdown",
   "id": "07964f44-7a03-4944-bfac-3ee9f7aa8558",
   "metadata": {},
   "source": [
    "| Feature                 | Compiler                                    | Interpreter                                |\n",
    "|-------------------------|--------------------------------------------|-------------------------------------------|\n",
    "| **Translation Process** | Translates the entire source code into machine code before execution. | Translates and executes code line-by-line or statement-by-statement. |\n",
    "| **Execution Speed**     | Faster execution, as code is translated once and then executed. | Slower execution, as translation occurs during runtime. |\n",
    "| **Error Detection**     | Errors are detected and reported for the entire source code before execution. | Errors are detected and reported line-by-line during execution. |\n",
    "| **Debugging**           | Requires fixing all errors before running; may be less convenient for debugging. | Easier for line-by-line debugging, as errors are found as they occur. |\n",
    "| **Typical Use Cases**   | Used for languages like C, C++, and Java.   | Used for languages like Python, JavaScript, and Ruby. |\n",
    "| **Output**              | Produces an independent machine code file (e.g., .exe). | Does not produce an independent machine code file; executes instructions directly. |\n"
   ]
  },
  {
   "cell_type": "markdown",
   "id": "1f78e0ad-7200-481a-b0fc-528728ac9912",
   "metadata": {},
   "source": [
    "___"
   ]
  },
  {
   "cell_type": "markdown",
   "id": "c9087ce9-153e-40c6-80a8-e35a181f1625",
   "metadata": {},
   "source": [
    "# <div align=\"center\" style=\"color:#f0c020;\">Numbers</div>\n"
   ]
  },
  {
   "cell_type": "markdown",
   "id": "243d3320-0182-4b1f-9a03-9aab8a0beffd",
   "metadata": {},
   "source": [
    "### Basic Arithmetic"
   ]
  },
  {
   "cell_type": "code",
   "execution_count": 10,
   "id": "141e95e7-62fd-4361-bf66-aeb7b95436ad",
   "metadata": {},
   "outputs": [
    {
     "data": {
      "text/plain": [
       "3"
      ]
     },
     "execution_count": 10,
     "metadata": {},
     "output_type": "execute_result"
    }
   ],
   "source": [
    "# Addition\n",
    "2+1"
   ]
  },
  {
   "cell_type": "code",
   "execution_count": 11,
   "id": "64617723-9e8a-4835-997d-08f6002b9efc",
   "metadata": {},
   "outputs": [
    {
     "data": {
      "text/plain": [
       "-3"
      ]
     },
     "execution_count": 11,
     "metadata": {},
     "output_type": "execute_result"
    }
   ],
   "source": [
    "# Subtraction\n",
    "2-5"
   ]
  },
  {
   "cell_type": "code",
   "execution_count": 12,
   "id": "a49a90a9-8ebe-4de4-a9a7-ec0bf789cd54",
   "metadata": {},
   "outputs": [
    {
     "data": {
      "text/plain": [
       "4"
      ]
     },
     "execution_count": 12,
     "metadata": {},
     "output_type": "execute_result"
    }
   ],
   "source": [
    "# Multiplication\n",
    "2*2"
   ]
  },
  {
   "cell_type": "code",
   "execution_count": 13,
   "id": "4895dff8-f19b-40c4-857a-09c8c69bb804",
   "metadata": {},
   "outputs": [
    {
     "data": {
      "text/plain": [
       "1.5"
      ]
     },
     "execution_count": 13,
     "metadata": {},
     "output_type": "execute_result"
    }
   ],
   "source": [
    "# Division - This operation returns a floating-point result.\n",
    "3/2"
   ]
  },
  {
   "cell_type": "code",
   "execution_count": 14,
   "id": "d8f914ab-8df6-47c9-bcf0-9771f7567030",
   "metadata": {},
   "outputs": [
    {
     "data": {
      "text/plain": [
       "1"
      ]
     },
     "execution_count": 14,
     "metadata": {},
     "output_type": "execute_result"
    }
   ],
   "source": [
    "# Floor Division - This operation returns the largest integer less than or equal to the division result.\n",
    "7//4"
   ]
  },
  {
   "cell_type": "markdown",
   "id": "2a3abb98-25c2-4d37-91ac-90c90178a7eb",
   "metadata": {},
   "source": [
    "##### So what if we just want the remainder after division?"
   ]
  },
  {
   "cell_type": "code",
   "execution_count": 16,
   "id": "467fbb94-062a-47fa-810f-c1a9bbd3e0b4",
   "metadata": {},
   "outputs": [
    {
     "data": {
      "text/plain": [
       "1"
      ]
     },
     "execution_count": 16,
     "metadata": {},
     "output_type": "execute_result"
    }
   ],
   "source": [
    "# Remainder (Modulo)\n",
    "7%2"
   ]
  },
  {
   "cell_type": "markdown",
   "id": "2fff7545-e0bc-477f-a23e-03d30c926408",
   "metadata": {},
   "source": [
    "### Arithmetic continued"
   ]
  },
  {
   "cell_type": "code",
   "execution_count": 18,
   "id": "63aa6726-6470-4e60-af22-063cbe329880",
   "metadata": {},
   "outputs": [
    {
     "data": {
      "text/plain": [
       "8"
      ]
     },
     "execution_count": 18,
     "metadata": {},
     "output_type": "execute_result"
    }
   ],
   "source": [
    "# Power operator - Raising a number to the power of another number.\n",
    "2**3"
   ]
  },
  {
   "cell_type": "code",
   "execution_count": 19,
   "id": "1e989ab1-a5ab-4163-b130-65d0d7f489f6",
   "metadata": {},
   "outputs": [
    {
     "data": {
      "text/plain": [
       "2.0"
      ]
     },
     "execution_count": 19,
     "metadata": {},
     "output_type": "execute_result"
    }
   ],
   "source": [
    "# Using exponentiation for  - Raising to the power of 0.5 gives the square root.\n",
    "4**0.5"
   ]
  },
  {
   "cell_type": "code",
   "execution_count": 20,
   "id": "b811d0ff-4445-46c7-a265-26ebc4ae64ec",
   "metadata": {},
   "outputs": [
    {
     "data": {
      "text/plain": [
       "105"
      ]
     },
     "execution_count": 20,
     "metadata": {},
     "output_type": "execute_result"
    }
   ],
   "source": [
    "# Order of Operations followed in Python\n",
    "2 + 10 * 10 + 3"
   ]
  },
  {
   "cell_type": "code",
   "execution_count": 21,
   "id": "e993a1d0-90f1-440b-b955-1117675a71c5",
   "metadata": {},
   "outputs": [
    {
     "data": {
      "text/plain": [
       "156"
      ]
     },
     "execution_count": 21,
     "metadata": {},
     "output_type": "execute_result"
    }
   ],
   "source": [
    "# Can use parentheses to specify orders\n",
    "(2+10) * (10+3)"
   ]
  },
  {
   "cell_type": "markdown",
   "id": "5b4dd2ba-11df-4742-98d8-6d8dea51a13c",
   "metadata": {},
   "source": [
    "___\r\n"
   ]
  },
  {
   "cell_type": "markdown",
   "id": "3f342f09-7232-4ba9-bd9e-0e7fdf90b03f",
   "metadata": {},
   "source": [
    "# <div align=\"center\" style=\"color:#f0c020;\">Data Types in Python</div>\n"
   ]
  },
  {
   "cell_type": "markdown",
   "id": "c7a0c772-77d3-44c2-a909-11257e6eac60",
   "metadata": {},
   "source": [
    "## 1. Numeric Types\n",
    "- **int**: Represents integers  \n",
    "  *Example*: `5`, `-100`, `42`\n",
    "- **float**: Represents floating-point numbers (decimals)  \n",
    "  *Example*: `3.14`, `-2.5`, `0.0`\n",
    "- **complex**: Represents complex numbers  \n",
    "  *Example*: `1 + 2j` (where `j` is the imaginary part)\n",
    "\n",
    "## 2. Sequence Types\n",
    "- **str** (String): Represents a sequence of characters  \n",
    "  *Example*: `'Hello'`, `\"Python\"`\n",
    "- **list**: Ordered, mutable collection of items  \n",
    "  *Example*: `[1, 2, 3]`, `['apple', 'banana']`\n",
    "- **tuple**: Ordered, immutable collection of items  \n",
    "  *Example*: `(1, 2, 3)`, `('a', 'b')`\n",
    "\n",
    "## 3. Mapping Type\n",
    "- **dict** (Dictionary): Represents a collection of key-value pairs  \n",
    "  *Example*: `{'name': 'John', 'age': 25}`\n",
    "\n",
    "## 4. Set Types\n",
    "- **set**: Unordered collection of unique elements  \n",
    "  *Example*: `{1, 2, 3}`, `{'a', 'b', 'c'}`\n",
    "- **frozenset**: Immutable version of a set\n",
    "\n",
    "## 5. Boolean Type\n",
    "- **bool**: Boolean values, either `True` or `False`\n",
    "\n",
    "## 6. None Type\n",
    "- **None**: Represents the absence of a value or a null value\n",
    "\n",
    "## 7. Binary Types\n",
    "- **bytes**: Immutable sequence of bytes  \n",
    "  *Example*: `b'hello'`\n",
    "- **bytearray**: Mutable sequence of bytes  \n",
    "  *Example*: `bytearray(b'hello')`\n",
    "- **memoryview**: Provides a memory view object of byte data\n",
    "\n",
    "## Summary Table\n",
    "\n",
    "| Data Type         | Description                                        | Example                        |\n",
    "|-------------------|----------------------------------------------------|--------------------------------|\n",
    "| **int**           | Integer numbers                                    | `5`, `-3`, `42`                |\n",
    "| **float**         | Floating-point numbers (decimals)                  | `3.14`, `-2.5`                 |\n",
    "| **complex**       | Complex numbers                                    | `1 + 2j`                       |\n",
    "| **str**           | Strings (text)                                     | `'Hello'`, `\"World\"`           |\n",
    "| **list**          | Ordered, mutable collection of elements            | `[1, 2, 3]`                    |\n",
    "| **tuple**         | Ordered, immutable collection of elements          | `(1, 2, 3)`                    |\n",
    "| **dict**          | Key-value pairs                                    | `{'name': 'Alice', 'age': 30}` |\n",
    "| **set**           | Unordered collection of unique elements            | `{1, 2, 3}`                    |\n",
    "| **frozenset**     | Immutable version of a set                         | `frozenset([1, 2, 3])`        |\n",
    "| **bool**          | Boolean values                                     | `True`, `False`                |\n",
    "| **None**          | Represents the absence of a value                  | `None`                         |\n",
    "| **bytes**         | Immutable sequence of bytes                        | `b'hello'`                     |\n",
    "| **bytearray**     | Mutable sequence of bytes                          | `bytearray(b'hello')`          |\n",
    "| **memoryview**    | Memory view of byte data                           | `memoryview(b'hello')`         |\n"
   ]
  },
  {
   "cell_type": "markdown",
   "id": "b0a7f914-4ed8-4036-acea-bb8ba07862ab",
   "metadata": {},
   "source": [
    "___\n"
   ]
  },
  {
   "cell_type": "markdown",
   "id": "78dd577b-8d48-4655-a640-72745e4778c9",
   "metadata": {},
   "source": [
    "# <div align=\"center\" style=\"color:#f0c020;\">Comments</div>\n"
   ]
  },
  {
   "cell_type": "markdown",
   "id": "5ebadd26-5508-460e-ae19-b7644f341d21",
   "metadata": {},
   "source": [
    "### Single-line Comments\n"
   ]
  },
  {
   "cell_type": "code",
   "execution_count": 28,
   "id": "6df2013c-fff0-4769-b17a-0a97371ef3e6",
   "metadata": {},
   "outputs": [
    {
     "name": "stdout",
     "output_type": "stream",
     "text": [
      "Hello, world!\n"
     ]
    }
   ],
   "source": [
    "# This is a single-line comment\n",
    "print(\"Hello, world!\")  # This is an inline comment"
   ]
  },
  {
   "cell_type": "markdown",
   "id": "eeb04e74-c8c6-4cdd-a5f6-3d4ad6d47602",
   "metadata": {},
   "source": [
    "### Multi-line Comments"
   ]
  },
  {
   "cell_type": "code",
   "execution_count": 30,
   "id": "508726ac-06c4-4709-8d95-b30ccf24d1b2",
   "metadata": {},
   "outputs": [],
   "source": [
    "# This is a multi-line comment\n",
    "# explaining something important\n",
    "# in more than one line."
   ]
  },
  {
   "cell_type": "markdown",
   "id": "e9de2e38-2607-481e-a560-d86f1e898d0a",
   "metadata": {},
   "source": [
    "### docstrings "
   ]
  },
  {
   "cell_type": "code",
   "execution_count": 32,
   "id": "11ab0059-f6fd-402b-a71d-7e528851f5f6",
   "metadata": {},
   "outputs": [
    {
     "name": "stdout",
     "output_type": "stream",
     "text": [
      "This is still valid code.\n"
     ]
    }
   ],
   "source": [
    "\"\"\"\n",
    "This is a multi-line string, often used for\n",
    "multi-line comments in code.\n",
    "\"\"\"\n",
    "\n",
    "print(\"This is still valid code.\")"
   ]
  },
  {
   "cell_type": "code",
   "execution_count": 33,
   "id": "b5aff037-7a5d-4c8d-acbd-3d8c39094046",
   "metadata": {},
   "outputs": [
    {
     "name": "stdout",
     "output_type": "stream",
     "text": [
      "This is still valid code.\n"
     ]
    }
   ],
   "source": [
    "'''\n",
    "This is a multi-line string, often used for\n",
    "multi-line comments in code.\n",
    "'''\n",
    "\n",
    "print(\"This is still valid code.\")"
   ]
  },
  {
   "cell_type": "markdown",
   "id": "6078b4d4-78bc-4a80-a288-ce29d4606433",
   "metadata": {},
   "source": [
    "##### Note: Triple quotes are more commonly used for docstrings (documentation strings) for functions, classes, or modules rather than general-purpose comments."
   ]
  },
  {
   "cell_type": "markdown",
   "id": "ab547a17-d0ef-408f-ac5d-5c874b038636",
   "metadata": {},
   "source": [
    "___\n"
   ]
  },
  {
   "cell_type": "markdown",
   "id": "ce674daf-42d0-45dd-b6d4-893e0d29c43f",
   "metadata": {},
   "source": [
    "# <div align=\"center\" style=\"color:#f0c020;\">Escape Sequences</div>\n"
   ]
  },
  {
   "cell_type": "markdown",
   "id": "f1461679-f4ed-4dc2-9014-01f464fb085a",
   "metadata": {},
   "source": [
    "### Single Quote Escape"
   ]
  },
  {
   "cell_type": "code",
   "execution_count": 38,
   "id": "4be02708-25ab-4999-8ffd-346ef28c2267",
   "metadata": {},
   "outputs": [
    {
     "name": "stdout",
     "output_type": "stream",
     "text": [
      "It's a sunny day.\n"
     ]
    }
   ],
   "source": [
    "# Using \\' to escape a single quote in a string\n",
    "print('It\\'s a sunny day.')"
   ]
  },
  {
   "cell_type": "markdown",
   "id": "40ddd930-4dc6-4497-b85a-db874ea829e1",
   "metadata": {},
   "source": [
    "### Double Quote Escape"
   ]
  },
  {
   "cell_type": "code",
   "execution_count": 40,
   "id": "24aeb30a-fdda-4604-b361-cea6a39fd500",
   "metadata": {},
   "outputs": [
    {
     "name": "stdout",
     "output_type": "stream",
     "text": [
      "She said, \"Hello there!\"\n"
     ]
    }
   ],
   "source": [
    "# Using \\\" to escape double quotes in a string\n",
    "print(\"She said, \\\"Hello there!\\\"\")"
   ]
  },
  {
   "cell_type": "markdown",
   "id": "143c17a1-f3b9-4cc2-ade8-54692e18999c",
   "metadata": {},
   "source": [
    "### Backslash Escape"
   ]
  },
  {
   "cell_type": "code",
   "execution_count": 42,
   "id": "2e0ecd00-d25b-4469-bb39-b11fa37c7410",
   "metadata": {},
   "outputs": [
    {
     "name": "stdout",
     "output_type": "stream",
     "text": [
      "This is a backslash: \\\n"
     ]
    }
   ],
   "source": [
    "# Using \\\\ to include a backslash in the string\n",
    "print(\"This is a backslash: \\\\\")"
   ]
  },
  {
   "cell_type": "markdown",
   "id": "d0a134ab-5ffc-4422-a484-8abc6748741b",
   "metadata": {},
   "source": [
    "### Newline Escape (\\n)"
   ]
  },
  {
   "cell_type": "code",
   "execution_count": 44,
   "id": "1c6d65eb-66fe-46f9-bcaf-f37442cde2d4",
   "metadata": {},
   "outputs": [
    {
     "name": "stdout",
     "output_type": "stream",
     "text": [
      "Hello\n",
      "World\n"
     ]
    }
   ],
   "source": [
    "# Using \\n to insert a newline\n",
    "print(\"Hello\\nWorld\")"
   ]
  },
  {
   "cell_type": "markdown",
   "id": "bf0a0213-3f11-4eff-b528-61af926ad924",
   "metadata": {},
   "source": [
    "### Tab Escape (\\t)"
   ]
  },
  {
   "cell_type": "code",
   "execution_count": 46,
   "id": "ba023b17-04f1-45b8-9aa8-bc5524e707d7",
   "metadata": {},
   "outputs": [
    {
     "name": "stdout",
     "output_type": "stream",
     "text": [
      "Name\tAge\n",
      "Alice\t30\n"
     ]
    }
   ],
   "source": [
    "# Using \\t to insert a tab\n",
    "print(\"Name\\tAge\")\n",
    "print(\"Alice\\t30\")"
   ]
  },
  {
   "cell_type": "markdown",
   "id": "b2cb8e34-bf3c-4f22-800c-5fab99270536",
   "metadata": {},
   "source": [
    "### Backspace Escape (\\b)"
   ]
  },
  {
   "cell_type": "code",
   "execution_count": 48,
   "id": "5b7846f1-d0cf-403d-a899-658eeaf44b98",
   "metadata": {},
   "outputs": [
    {
     "name": "stdout",
     "output_type": "stream",
     "text": [
      "Hell World\n"
     ]
    }
   ],
   "source": [
    "# Using \\b for a backspace\n",
    "print(\"Hello\\b World\")"
   ]
  },
  {
   "cell_type": "markdown",
   "id": "b5210f24-a472-4d93-bc34-9ec885bf0773",
   "metadata": {},
   "source": [
    "### Carriage Return (\\r)"
   ]
  },
  {
   "cell_type": "code",
   "execution_count": 50,
   "id": "f94a363e-9e66-476d-bfb6-cb266ac75623",
   "metadata": {},
   "outputs": [
    {
     "name": "stdout",
     "output_type": "stream",
     "text": [
      "ABCDE\n"
     ]
    }
   ],
   "source": [
    "# Using \\r (carriage return)\n",
    "print(\"12345\\rABCDE\")"
   ]
  },
  {
   "cell_type": "markdown",
   "id": "cf48a10c-f65b-4743-931c-87f41fe76168",
   "metadata": {},
   "source": [
    "### Octal and Hexadecimal Escapes"
   ]
  },
  {
   "cell_type": "code",
   "execution_count": 52,
   "id": "9b0e72bf-2ece-4201-ba53-2d99c30d5002",
   "metadata": {},
   "outputs": [
    {
     "name": "stdout",
     "output_type": "stream",
     "text": [
      "A\n",
      "A\n"
     ]
    }
   ],
   "source": [
    "# Using \\ooo (octal) and \\xhh (hexadecimal)\n",
    "print(\"\\101\")  # Octal for 'A'\n",
    "print(\"\\x41\")  # Hexadecimal for 'A'"
   ]
  },
  {
   "cell_type": "markdown",
   "id": "58abdf8e-a865-41f2-b498-d413d173da52",
   "metadata": {},
   "source": [
    "___\n"
   ]
  },
  {
   "cell_type": "markdown",
   "id": "ee48f113-b806-4e67-abed-832d7aa8a533",
   "metadata": {},
   "source": [
    "# <div align=\"center\" style=\"color:#f0c020;\">Strings</div>\n"
   ]
  },
  {
   "cell_type": "markdown",
   "id": "a1448c0c-aa79-4eb0-a0a2-5af02d05ad71",
   "metadata": {},
   "source": [
    "### Creating a String\n",
    "##### To create a string in Python you need to use either single quotes or double quotes. For example:"
   ]
  },
  {
   "cell_type": "code",
   "execution_count": 56,
   "id": "ed695451-9db2-417c-812a-32f0804e0817",
   "metadata": {},
   "outputs": [
    {
     "data": {
      "text/plain": [
       "'h'"
      ]
     },
     "execution_count": 56,
     "metadata": {},
     "output_type": "execute_result"
    }
   ],
   "source": [
    "# Single word\n",
    "'h'"
   ]
  },
  {
   "cell_type": "code",
   "execution_count": 57,
   "id": "a8ec2caa-d29e-4cc2-8453-e6b726d58031",
   "metadata": {},
   "outputs": [
    {
     "data": {
      "text/plain": [
       "'This is also a string'"
      ]
     },
     "execution_count": 57,
     "metadata": {},
     "output_type": "execute_result"
    }
   ],
   "source": [
    "# Entire phrase \n",
    "'This is also a string'"
   ]
  },
  {
   "cell_type": "code",
   "execution_count": 58,
   "id": "37130f06-7f08-463a-84d3-d0d9cd007765",
   "metadata": {},
   "outputs": [
    {
     "data": {
      "text/plain": [
       "'String built with double quotes'"
      ]
     },
     "execution_count": 58,
     "metadata": {},
     "output_type": "execute_result"
    }
   ],
   "source": [
    "# We can also use double quote\n",
    "\"String built with double quotes\""
   ]
  },
  {
   "cell_type": "code",
   "execution_count": 59,
   "id": "bc11da88-1b00-461d-90b1-1238a5bd607e",
   "metadata": {},
   "outputs": [],
   "source": [
    "# Be careful with quotes!\n",
    "# ' I'm using single quotes, but this will create an error'"
   ]
  },
  {
   "cell_type": "code",
   "execution_count": 60,
   "id": "5d4077df-4d22-41e9-be04-81fcf872a88a",
   "metadata": {},
   "outputs": [
    {
     "data": {
      "text/plain": [
       "\"Now I'm ready to use the single quotes inside a string!\""
      ]
     },
     "execution_count": 60,
     "metadata": {},
     "output_type": "execute_result"
    }
   ],
   "source": [
    "\"Now I'm ready to use the single quotes inside a string!\""
   ]
  },
  {
   "cell_type": "markdown",
   "id": "81ee2d36-6cc8-4a24-881e-803f17fafee3",
   "metadata": {},
   "source": [
    "### Printing a String"
   ]
  },
  {
   "cell_type": "code",
   "execution_count": 62,
   "id": "e7be6b42-0abb-45aa-8ef8-314f6e173eac",
   "metadata": {},
   "outputs": [
    {
     "data": {
      "text/plain": [
       "'Hello World'"
      ]
     },
     "execution_count": 62,
     "metadata": {},
     "output_type": "execute_result"
    }
   ],
   "source": [
    "# We can simply declare a string\n",
    "'Hello World'"
   ]
  },
  {
   "cell_type": "code",
   "execution_count": 63,
   "id": "b07c52e6-c211-434c-82e5-954f4a3984e9",
   "metadata": {},
   "outputs": [
    {
     "data": {
      "text/plain": [
       "'ahmed'"
      ]
     },
     "execution_count": 63,
     "metadata": {},
     "output_type": "execute_result"
    }
   ],
   "source": [
    "# Note that we can't output multiple strings this way\n",
    "'Hello World 1'\n",
    "'Hello World 2'\n",
    "'ahmed'"
   ]
  },
  {
   "cell_type": "code",
   "execution_count": 64,
   "id": "c976acf8-56d3-4361-8fcf-667c30bd09c8",
   "metadata": {},
   "outputs": [
    {
     "name": "stdout",
     "output_type": "stream",
     "text": [
      "Hello World 1\n",
      "Hello World 2\n",
      "Use \t  to print a new line\n",
      "\n",
      "\n",
      "See what I mean?\n"
     ]
    }
   ],
   "source": [
    "print('Hello World 1')\n",
    "print('Hello World 2')\n",
    "print('Use \\t  to print a new line')\n",
    "print('\\n')\n",
    "print('See what I mean?')"
   ]
  },
  {
   "cell_type": "markdown",
   "id": "e8d9c143-7156-4ad6-8190-4e884ce5a9d0",
   "metadata": {},
   "source": [
    "### String Basics\n",
    "##### We can also use a function called len() to check the length of a string!"
   ]
  },
  {
   "cell_type": "code",
   "execution_count": 66,
   "id": "d78e037e-b52a-49f6-a34b-274d697c8bea",
   "metadata": {},
   "outputs": [
    {
     "data": {
      "text/plain": [
       "12"
      ]
     },
     "execution_count": 66,
     "metadata": {},
     "output_type": "execute_result"
    }
   ],
   "source": [
    "len('Hello World ')"
   ]
  },
  {
   "cell_type": "markdown",
   "id": "53670353-1beb-4457-b99e-820164291118",
   "metadata": {},
   "source": [
    "### String Indexing"
   ]
  },
  {
   "cell_type": "code",
   "execution_count": 68,
   "id": "05ac1b88-bd4d-421f-a3f1-5e68a7b374d2",
   "metadata": {},
   "outputs": [],
   "source": [
    "# Assign s as a string\n",
    "s = 'Hello World'"
   ]
  },
  {
   "cell_type": "code",
   "execution_count": 69,
   "id": "9cd3b77a-e6fb-4ed5-8446-e221694a5806",
   "metadata": {},
   "outputs": [
    {
     "data": {
      "text/plain": [
       "'H'"
      ]
     },
     "execution_count": 69,
     "metadata": {},
     "output_type": "execute_result"
    }
   ],
   "source": [
    "s[0]"
   ]
  },
  {
   "cell_type": "code",
   "execution_count": 70,
   "id": "32ace60e-92c1-4a8e-93cf-0dc4d5372731",
   "metadata": {},
   "outputs": [
    {
     "data": {
      "text/plain": [
       "' '"
      ]
     },
     "execution_count": 70,
     "metadata": {},
     "output_type": "execute_result"
    }
   ],
   "source": [
    "s[5]"
   ]
  },
  {
   "cell_type": "code",
   "execution_count": 71,
   "id": "4b2c6114-4d67-4c8a-9b54-183c75477d2f",
   "metadata": {},
   "outputs": [
    {
     "data": {
      "text/plain": [
       "'d'"
      ]
     },
     "execution_count": 71,
     "metadata": {},
     "output_type": "execute_result"
    }
   ],
   "source": [
    "s[-1]"
   ]
  },
  {
   "cell_type": "markdown",
   "id": "d80b1816-8bf7-42ce-a7b8-aba8dab9e795",
   "metadata": {},
   "source": [
    "##### We can use a <code>:</code> to perform *slicing* which grabs everything up to a designated point. For example:"
   ]
  },
  {
   "cell_type": "code",
   "execution_count": 73,
   "id": "c3ed7640-293a-49c6-9cfc-f89c767b1df7",
   "metadata": {},
   "outputs": [
    {
     "data": {
      "text/plain": [
       "'ello World'"
      ]
     },
     "execution_count": 73,
     "metadata": {},
     "output_type": "execute_result"
    }
   ],
   "source": [
    "# Grab everything past the first term all the way to the length of s which is len(s)\n",
    "s[1:]"
   ]
  },
  {
   "cell_type": "code",
   "execution_count": 74,
   "id": "c4f55695-053f-4e72-ac8e-c11274f7cf39",
   "metadata": {},
   "outputs": [
    {
     "data": {
      "text/plain": [
       "'Hello World'"
      ]
     },
     "execution_count": 74,
     "metadata": {},
     "output_type": "execute_result"
    }
   ],
   "source": [
    "# Note that there is no change to the original s\n",
    "s"
   ]
  },
  {
   "cell_type": "code",
   "execution_count": 75,
   "id": "f65054ba-99a6-48a8-bcf7-1af4c496dbb7",
   "metadata": {},
   "outputs": [
    {
     "data": {
      "text/plain": [
       "'Hell'"
      ]
     },
     "execution_count": 75,
     "metadata": {},
     "output_type": "execute_result"
    }
   ],
   "source": [
    "# Grab everything UP TO the 3rd index\n",
    "s[:4]"
   ]
  },
  {
   "cell_type": "code",
   "execution_count": 76,
   "id": "c3dcd6d0-9bed-44fa-ae2a-89ae1f0cdf7e",
   "metadata": {},
   "outputs": [
    {
     "data": {
      "text/plain": [
       "'d'"
      ]
     },
     "execution_count": 76,
     "metadata": {},
     "output_type": "execute_result"
    }
   ],
   "source": [
    "# Last letter (one index behind 0 so it loops back around)\n",
    "s[-1]"
   ]
  },
  {
   "cell_type": "code",
   "execution_count": 77,
   "id": "3a35253d-f076-4371-824d-4cd1a911a2ae",
   "metadata": {},
   "outputs": [
    {
     "data": {
      "text/plain": [
       "'Hello World'"
      ]
     },
     "execution_count": 77,
     "metadata": {},
     "output_type": "execute_result"
    }
   ],
   "source": [
    "s"
   ]
  },
  {
   "cell_type": "code",
   "execution_count": 78,
   "id": "f199b073-039c-4756-940b-f09128b826a0",
   "metadata": {},
   "outputs": [
    {
     "data": {
      "text/plain": [
       "[1, 2, 3, 4, 5, 6, 7, 8, 9, 10]"
      ]
     },
     "execution_count": 78,
     "metadata": {},
     "output_type": "execute_result"
    }
   ],
   "source": [
    "s=[1,2,3,4,5,6,7,8,9,10]\n",
    "s"
   ]
  },
  {
   "cell_type": "code",
   "execution_count": 79,
   "id": "547bf598-77e6-4497-92df-ace6101ee0dd",
   "metadata": {},
   "outputs": [
    {
     "data": {
      "text/plain": [
       "[1, 4, 7, 10]"
      ]
     },
     "execution_count": 79,
     "metadata": {},
     "output_type": "execute_result"
    }
   ],
   "source": [
    "s[::3]"
   ]
  },
  {
   "cell_type": "code",
   "execution_count": 80,
   "id": "ee571e40-3de7-4d2b-81e0-71722ff9dcad",
   "metadata": {},
   "outputs": [
    {
     "data": {
      "text/plain": [
       "[1, 2, 3, 4, 5, 6, 7, 8, 9, 10]"
      ]
     },
     "execution_count": 80,
     "metadata": {},
     "output_type": "execute_result"
    }
   ],
   "source": [
    "s"
   ]
  },
  {
   "cell_type": "markdown",
   "id": "5a52e047-5197-4be7-b26c-3c3ff59067d5",
   "metadata": {},
   "source": [
    "___"
   ]
  },
  {
   "cell_type": "markdown",
   "id": "f71c5495-28ae-442f-ae7c-95542820d69e",
   "metadata": {},
   "source": [
    "___"
   ]
  },
  {
   "cell_type": "markdown",
   "id": "5e4ac68f-7a7f-4364-92e0-cdceea809d19",
   "metadata": {},
   "source": [
    "# <div align=\"center\" style=\"color:#f0c020;\">String Methods</div>"
   ]
  },
  {
   "cell_type": "markdown",
   "id": "6ec78e44-4796-41f4-b047-9597d1f6260f",
   "metadata": {},
   "source": [
    "### str.upper()"
   ]
  },
  {
   "cell_type": "code",
   "execution_count": 85,
   "id": "a3e2d8f1-09a8-4239-8c80-32991f4aefb2",
   "metadata": {},
   "outputs": [
    {
     "name": "stdout",
     "output_type": "stream",
     "text": [
      "HELLO\n"
     ]
    }
   ],
   "source": [
    "text = \"hello\"\n",
    "print(text.upper())  "
   ]
  },
  {
   "cell_type": "markdown",
   "id": "594da41c-6c6f-4b60-8b51-88e038af48d7",
   "metadata": {},
   "source": [
    "### str.lower()"
   ]
  },
  {
   "cell_type": "code",
   "execution_count": 87,
   "id": "ad83ea87-3366-4aa1-a3e8-3ac30e5f16d1",
   "metadata": {},
   "outputs": [
    {
     "name": "stdout",
     "output_type": "stream",
     "text": [
      "hello\n"
     ]
    }
   ],
   "source": [
    "text = \"HELLO\"\n",
    "print(text.lower())"
   ]
  },
  {
   "cell_type": "markdown",
   "id": "597c6b68-5dc5-477d-ab5c-a844b2fb430c",
   "metadata": {},
   "source": [
    "### str.capitalize()"
   ]
  },
  {
   "cell_type": "code",
   "execution_count": 89,
   "id": "ddc11f81-9380-4d78-9819-446dd88bb8c9",
   "metadata": {},
   "outputs": [
    {
     "name": "stdout",
     "output_type": "stream",
     "text": [
      "Hello\n"
     ]
    }
   ],
   "source": [
    "text = \"hello\"\n",
    "print(text.capitalize())"
   ]
  },
  {
   "cell_type": "markdown",
   "id": "64a7c10d-0346-4b9b-a1d2-7c0d563e13a8",
   "metadata": {},
   "source": [
    "### str.title()"
   ]
  },
  {
   "cell_type": "code",
   "execution_count": 91,
   "id": "3e4c3229-c809-431a-a560-4635870966a4",
   "metadata": {},
   "outputs": [
    {
     "name": "stdout",
     "output_type": "stream",
     "text": [
      "Hello World\n"
     ]
    }
   ],
   "source": [
    "text = \"hello world\"\n",
    "print(text.title())"
   ]
  },
  {
   "cell_type": "markdown",
   "id": "c9b5f3db-daa0-48fe-8c59-608244f0e68b",
   "metadata": {},
   "source": [
    "### str.strip()"
   ]
  },
  {
   "cell_type": "code",
   "execution_count": 93,
   "id": "9bf77f53-9bc9-448d-ae9c-b6a3a53fe970",
   "metadata": {},
   "outputs": [
    {
     "name": "stdout",
     "output_type": "stream",
     "text": [
      "hello\n"
     ]
    }
   ],
   "source": [
    "text = \"  hello  \"\n",
    "print(text.strip())"
   ]
  },
  {
   "cell_type": "markdown",
   "id": "c23cd047-6711-480a-9d43-da007cea4566",
   "metadata": {},
   "source": [
    "### str.lstrip() and str.rstrip()"
   ]
  },
  {
   "cell_type": "code",
   "execution_count": 95,
   "id": "1f90124b-dd6d-44ba-b9a8-c89ad7d613ad",
   "metadata": {},
   "outputs": [
    {
     "name": "stdout",
     "output_type": "stream",
     "text": [
      "hello  \n",
      "  hello\n"
     ]
    }
   ],
   "source": [
    "text = \"  hello  \"\n",
    "print(text.lstrip()) \n",
    "print(text.rstrip())"
   ]
  },
  {
   "cell_type": "markdown",
   "id": "3a7c3592-1a44-4cf8-a245-430cd24382d0",
   "metadata": {},
   "source": [
    "### str.replace(old, new)"
   ]
  },
  {
   "cell_type": "code",
   "execution_count": 97,
   "id": "ea2b9fe9-9db0-438d-b6c0-a743d142840c",
   "metadata": {},
   "outputs": [
    {
     "name": "stdout",
     "output_type": "stream",
     "text": [
      "hello Python\n"
     ]
    }
   ],
   "source": [
    "text = \"hello world\"\n",
    "print(text.replace(\"world\", \"Python\"))"
   ]
  },
  {
   "cell_type": "markdown",
   "id": "adae9cd2-20d2-4089-a9ff-1593bd61bd0a",
   "metadata": {},
   "source": [
    "### str.split()"
   ]
  },
  {
   "cell_type": "code",
   "execution_count": 99,
   "id": "70ad12a3-e4f9-4cea-afb0-93b632ca4e3f",
   "metadata": {},
   "outputs": [
    {
     "name": "stdout",
     "output_type": "stream",
     "text": [
      "['hello', 'world', 'Python']\n"
     ]
    }
   ],
   "source": [
    "text = \"hello world Python\"\n",
    "print(text.split())"
   ]
  },
  {
   "cell_type": "markdown",
   "id": "08cdf87e-8e43-4d48-8d47-837eb1a8ef6e",
   "metadata": {},
   "source": [
    "### str.join(iterable)"
   ]
  },
  {
   "cell_type": "code",
   "execution_count": 101,
   "id": "f69e2bd1-2346-47b7-be02-7be231e2bc4f",
   "metadata": {},
   "outputs": [
    {
     "name": "stdout",
     "output_type": "stream",
     "text": [
      "hello world Python\n"
     ]
    }
   ],
   "source": [
    "words = ['hello', 'world', 'Python']\n",
    "print(\" \".join(words))"
   ]
  },
  {
   "cell_type": "markdown",
   "id": "10465649-0dea-4cca-8e0b-3dd4faedf591",
   "metadata": {},
   "source": [
    "### str.find(substring)"
   ]
  },
  {
   "cell_type": "code",
   "execution_count": 103,
   "id": "6b135962-2bb0-43fa-b6c7-06ce6a760edf",
   "metadata": {},
   "outputs": [
    {
     "name": "stdout",
     "output_type": "stream",
     "text": [
      "6\n",
      "-1\n"
     ]
    }
   ],
   "source": [
    "text = \"hello world\"\n",
    "print(text.find(\"world\"))  \n",
    "print(text.find(\"Python\"))"
   ]
  },
  {
   "cell_type": "markdown",
   "id": "610d6664-57ca-4885-8a78-1e04ac2a9a0b",
   "metadata": {},
   "source": [
    "### str.startswith(prefix)"
   ]
  },
  {
   "cell_type": "code",
   "execution_count": 105,
   "id": "c2c085ab-4201-4ce3-b60a-c9bf4eac0126",
   "metadata": {},
   "outputs": [
    {
     "name": "stdout",
     "output_type": "stream",
     "text": [
      "True\n"
     ]
    }
   ],
   "source": [
    "text = \"hello world\"\n",
    "print(text.startswith(\"hello\"))"
   ]
  },
  {
   "cell_type": "markdown",
   "id": "62297823-8947-44d3-bafb-9247fad372e3",
   "metadata": {},
   "source": [
    "### str.endswith(suffix)"
   ]
  },
  {
   "cell_type": "code",
   "execution_count": 107,
   "id": "2ff16e19-23aa-4e3e-8ea7-d8868a8cd3ca",
   "metadata": {},
   "outputs": [
    {
     "name": "stdout",
     "output_type": "stream",
     "text": [
      "True\n"
     ]
    }
   ],
   "source": [
    "text = \"hello world\"\n",
    "print(text.endswith(\"world\")) "
   ]
  },
  {
   "cell_type": "markdown",
   "id": "efbe1ce5-18e7-49cd-aae8-cad48ebe8c6a",
   "metadata": {},
   "source": [
    "### str.isdigit()"
   ]
  },
  {
   "cell_type": "code",
   "execution_count": 109,
   "id": "98fce393-159d-4942-b8a4-a543ebd68532",
   "metadata": {},
   "outputs": [
    {
     "name": "stdout",
     "output_type": "stream",
     "text": [
      "True\n",
      "False\n"
     ]
    }
   ],
   "source": [
    "text = \"12345\"\n",
    "print(text.isdigit()) \n",
    "\n",
    "text = \"123a5\"\n",
    "print(text.isdigit()) "
   ]
  },
  {
   "cell_type": "markdown",
   "id": "19986ff8-813c-4a24-b6c1-d4976a0bb252",
   "metadata": {},
   "source": [
    "### str.isalpha()"
   ]
  },
  {
   "cell_type": "code",
   "execution_count": 111,
   "id": "5a168ada-b76f-4174-bff7-fc2f161beb78",
   "metadata": {},
   "outputs": [
    {
     "name": "stdout",
     "output_type": "stream",
     "text": [
      "True\n",
      "False\n"
     ]
    }
   ],
   "source": [
    "text = \"hello\"\n",
    "print(text.isalpha()) \n",
    "\n",
    "text = \"hello123\"\n",
    "print(text.isalpha())  "
   ]
  },
  {
   "cell_type": "markdown",
   "id": "5161b8d0-094e-464b-be94-6add40a78995",
   "metadata": {},
   "source": [
    "### str.isnumeric()"
   ]
  },
  {
   "cell_type": "code",
   "execution_count": 113,
   "id": "6fbee84e-f159-46a0-a6fc-8f6d1cd3f500",
   "metadata": {},
   "outputs": [
    {
     "name": "stdout",
     "output_type": "stream",
     "text": [
      "True\n"
     ]
    }
   ],
   "source": [
    "text = \"12345\"\n",
    "print(text.isnumeric())"
   ]
  },
  {
   "cell_type": "markdown",
   "id": "a4870cdb-557e-4032-bb47-f575996bf2e8",
   "metadata": {},
   "source": [
    "### str.swapcase()"
   ]
  },
  {
   "cell_type": "code",
   "execution_count": 115,
   "id": "3a2bcfcd-8960-4248-93b7-186299677234",
   "metadata": {},
   "outputs": [
    {
     "name": "stdout",
     "output_type": "stream",
     "text": [
      "hELLO wORLD\n"
     ]
    }
   ],
   "source": [
    "text = \"Hello World\"\n",
    "print(text.swapcase())  "
   ]
  },
  {
   "cell_type": "markdown",
   "id": "085ae28f-c264-4d52-be61-8100a4b5bae5",
   "metadata": {},
   "source": [
    "### str.count(substring)"
   ]
  },
  {
   "cell_type": "code",
   "execution_count": 117,
   "id": "d11c84ab-86e2-492c-bfa8-04c749fbce8f",
   "metadata": {},
   "outputs": [
    {
     "name": "stdout",
     "output_type": "stream",
     "text": [
      "2\n"
     ]
    }
   ],
   "source": [
    "text = \"hello world, hello Python\"\n",
    "print(text.count(\"hello\"))  "
   ]
  },
  {
   "cell_type": "markdown",
   "id": "747c62f7-4fa0-4d92-8f56-e799f992de6e",
   "metadata": {},
   "source": [
    "### str.format()"
   ]
  },
  {
   "cell_type": "code",
   "execution_count": 119,
   "id": "752c8ff8-fcd7-48fd-961c-0625219c273c",
   "metadata": {},
   "outputs": [
    {
     "name": "stdout",
     "output_type": "stream",
     "text": [
      "My name is Alice and I am 25 years old.\n"
     ]
    }
   ],
   "source": [
    "name = \"Alice\"\n",
    "age = 25\n",
    "text = \"My name is {} and I am {} years old.\".format(name, age)\n",
    "print(text)  "
   ]
  },
  {
   "cell_type": "markdown",
   "id": "7a587ed3-6c91-470c-80c4-2c563168cbeb",
   "metadata": {},
   "source": [
    "### str.islower() and str.isupper()"
   ]
  },
  {
   "cell_type": "code",
   "execution_count": 121,
   "id": "e0c2f84d-2bab-4387-9bab-2c3a092ff4bd",
   "metadata": {},
   "outputs": [
    {
     "name": "stdout",
     "output_type": "stream",
     "text": [
      "True\n",
      "False\n"
     ]
    }
   ],
   "source": [
    "text = \"hello\"\n",
    "print(text.islower())\n",
    "print(text.isupper()) "
   ]
  },
  {
   "cell_type": "markdown",
   "id": "a33b4e0c-5e48-45d9-8e57-6aef4fbbb931",
   "metadata": {},
   "source": [
    "___"
   ]
  },
  {
   "cell_type": "markdown",
   "id": "b7e5750e-46b8-442f-aeaf-22b72dd4d75a",
   "metadata": {},
   "source": [
    "# <div align=\"center\" style=\"color:#f0c020;\">string formatting</div>"
   ]
  },
  {
   "cell_type": "markdown",
   "id": "3a9aa482-484e-4345-ab03-3a40b9fde0d9",
   "metadata": {},
   "source": [
    "### Using f-strings"
   ]
  },
  {
   "cell_type": "code",
   "execution_count": 125,
   "id": "713a5cac-6f7e-47d0-bf10-4f2b146bea80",
   "metadata": {},
   "outputs": [
    {
     "name": "stdout",
     "output_type": "stream",
     "text": [
      "My name is Alice and I am 25 years old.\n"
     ]
    }
   ],
   "source": [
    "name = \"Alice\"\n",
    "age = 25\n",
    "print(f\"My name is {name} and I am {age} years old.\")"
   ]
  },
  {
   "cell_type": "code",
   "execution_count": 126,
   "id": "991e7e05-ee8a-47ea-88fe-4088c6f66211",
   "metadata": {},
   "outputs": [
    {
     "name": "stdout",
     "output_type": "stream",
     "text": [
      "The sum of 5 and 10 is 15.\n"
     ]
    }
   ],
   "source": [
    "x = 5\n",
    "y = 10\n",
    "print(f\"The sum of {x} and {y} is {x + y}.\") "
   ]
  },
  {
   "cell_type": "markdown",
   "id": "c17acb27-864c-4585-b3d7-0b9ca508c93e",
   "metadata": {},
   "source": [
    "### Using str.format()"
   ]
  },
  {
   "cell_type": "code",
   "execution_count": 128,
   "id": "e45039d9-cb03-4e6d-9eee-f95e5d176ca7",
   "metadata": {},
   "outputs": [
    {
     "name": "stdout",
     "output_type": "stream",
     "text": [
      "My name is Bob and I am 30 years old.\n"
     ]
    }
   ],
   "source": [
    "name = \"Bob\"\n",
    "age = 30\n",
    "print(\"My name is {} and I am {} years old.\".format(name, age))"
   ]
  },
  {
   "cell_type": "code",
   "execution_count": 129,
   "id": "ea962142-3855-4d77-b737-1c12a8d6caed",
   "metadata": {},
   "outputs": [
    {
     "name": "stdout",
     "output_type": "stream",
     "text": [
      "I am 30 years old and my name is Bob\n"
     ]
    }
   ],
   "source": [
    "print(\"I am {1} years old and my name is {0}\".format(name, age))"
   ]
  },
  {
   "cell_type": "code",
   "execution_count": 130,
   "id": "fc7e6ef9-4e9f-47a5-b348-94700f978d8c",
   "metadata": {},
   "outputs": [
    {
     "name": "stdout",
     "output_type": "stream",
     "text": [
      "My name is Charlie and I am 40 years old.\n"
     ]
    }
   ],
   "source": [
    "print(\"My name is {name} and I am {age} years old.\".format(name=\"Charlie\", age=40))  "
   ]
  },
  {
   "cell_type": "markdown",
   "id": "68b670d4-ab27-44fa-a314-d457a5d08c52",
   "metadata": {},
   "source": [
    "### Using % Operator [old formatting]"
   ]
  },
  {
   "cell_type": "code",
   "execution_count": 132,
   "id": "14089170-c4d4-4eb0-9683-7310154732ef",
   "metadata": {},
   "outputs": [
    {
     "name": "stdout",
     "output_type": "stream",
     "text": [
      "My name is Alice and I am 25 years old.\n"
     ]
    }
   ],
   "source": [
    "name = \"Alice\"\n",
    "age = 25\n",
    "print(\"My name is %s and I am %d years old.\" % (name, age))"
   ]
  },
  {
   "cell_type": "code",
   "execution_count": 133,
   "id": "bd13fae8-36ac-41cc-821c-db32a009f793",
   "metadata": {},
   "outputs": [
    {
     "name": "stdout",
     "output_type": "stream",
     "text": [
      "The value of pi is 3.14\n"
     ]
    }
   ],
   "source": [
    "pi = 3.14159 \n",
    "print(\"The value of pi is %.2f\" % pi)"
   ]
  },
  {
   "cell_type": "markdown",
   "id": "6e7a72e7-8311-4841-9a66-4651d7fc0f8e",
   "metadata": {},
   "source": [
    "### Example of All Methods:"
   ]
  },
  {
   "cell_type": "code",
   "execution_count": 135,
   "id": "21a0ccf5-4ed6-4a3c-8a22-6feb7bb550dd",
   "metadata": {},
   "outputs": [
    {
     "name": "stdout",
     "output_type": "stream",
     "text": [
      "My name is John and I am 28 years old.\n",
      "My name is John and I am 28 years old.\n",
      "My name is John and I am 28 years old.\n"
     ]
    }
   ],
   "source": [
    "name = \"John\"\n",
    "age = 28\n",
    "\n",
    "# Using f-string\n",
    "print(f\"My name is {name} and I am {age} years old.\") \n",
    "\n",
    "# Using str.format()\n",
    "print(\"My name is {} and I am {} years old.\".format(name, age))\n",
    "\n",
    "# Using % operator\n",
    "print(\"My name is %s and I am %d years old.\" % (name, age))"
   ]
  },
  {
   "cell_type": "markdown",
   "id": "2b1852fd-33d8-4637-bc83-8e1329949faf",
   "metadata": {},
   "source": [
    "#### Placeholder Types\n",
    "##### %s --> String  \n",
    "##### %d --> Number\n",
    "##### %f --> Float"
   ]
  },
  {
   "cell_type": "markdown",
   "id": "81010a68-7c35-4428-a9cf-6bf8a0dc4cb2",
   "metadata": {},
   "source": [
    "___"
   ]
  },
  {
   "cell_type": "markdown",
   "id": "d5445c21-3453-4f13-9fb4-954b899d345f",
   "metadata": {},
   "source": [
    "# <div align=\"center\" style=\"color:#f0c020;\">Input</div>\n"
   ]
  },
  {
   "cell_type": "code",
   "execution_count": 139,
   "id": "fb7d7beb-4a7e-40a3-b28e-ae512fbfe23a",
   "metadata": {},
   "outputs": [],
   "source": [
    "# user_input = input(\"Enter something: \")\n",
    "# print(\"You entered:\", user_input)"
   ]
  },
  {
   "cell_type": "code",
   "execution_count": 140,
   "id": "278f147b-c876-4c2d-bc16-168b96c6683c",
   "metadata": {},
   "outputs": [],
   "source": [
    "# name = input(\"Enter your name: \")\n",
    "# print(\"Hello, \" + name + \"!\")"
   ]
  },
  {
   "cell_type": "code",
   "execution_count": 141,
   "id": "763812b1-2ad7-4a4e-bb8c-0732b9270bdc",
   "metadata": {},
   "outputs": [],
   "source": [
    "# age = int(input(\"Enter your age: \"))\n",
    "# print(\"You are\", age, \"years old.\")"
   ]
  },
  {
   "cell_type": "code",
   "execution_count": 142,
   "id": "caff6f13-b99b-4cce-a7d5-f9ca0daa6776",
   "metadata": {},
   "outputs": [],
   "source": [
    "# num1 = float(input(\"Enter the first number: \"))\n",
    "# num2 = float(input(\"Enter the second number: \"))\n",
    "# result = num1 + num2\n",
    "# print(\"The sum is:\", result)"
   ]
  },
  {
   "cell_type": "markdown",
   "id": "2810d9b3-89d7-4603-b716-adf819bbddaa",
   "metadata": {},
   "source": [
    "All data returned by input() is of type string by default."
   ]
  },
  {
   "cell_type": "markdown",
   "id": "40fcf780-7baa-474b-93b5-86978bb5e8fd",
   "metadata": {},
   "source": [
    "___"
   ]
  },
  {
   "cell_type": "markdown",
   "id": "95e56de9-4d73-4e67-9488-649eb64ecaf0",
   "metadata": {},
   "source": [
    "# <div align=\"center\" style=\"color:#f0c020;\">Built-in Functions in Python</div>"
   ]
  },
  {
   "cell_type": "markdown",
   "id": "06a9a3d5-66f9-4226-b3a5-d96cf72c9e21",
   "metadata": {},
   "source": [
    "Python provides many built-in functions that make programming easier by performing common tasks. Here are some of the most commonly used built-in functions:\n",
    "\n",
    "## 1. Type Conversion Functions\n",
    "- **`int()`**: Converts a value to an integer.\n",
    "- **`float()`**: Converts a value to a floating-point number.\n",
    "- **`str()`**: Converts a value to a string.\n",
    "- **`bool()`**: Converts a value to a boolean.\n",
    "\n",
    "## 2. Data Type and Structure Functions\n",
    "- **`len()`**: Returns the number of items in an object (e.g., length of a string, list).\n",
    "- **`type()`**: Returns the type of an object.\n",
    "- **`list()`**: Creates a list.\n",
    "- **`dict()`**: Creates a dictionary.\n",
    "- **`set()`**: Creates a set.\n",
    "- **`tuple()`**: Creates a tuple.\n",
    "\n",
    "## 3. Numeric Functions\n",
    "- **`abs()`**: Returns the absolute value of a number.\n",
    "- **`round()`**: Rounds a number to the nearest integer or to a specified number of decimal places.\n",
    "- **`max()`**: Returns the maximum value from a list or iterable.\n",
    "- **`min()`**: Returns the minimum value from a list or iterable.\n",
    "- **`sum()`**: Returns the sum of all items in an iterable (e.g., list).\n",
    "- **`pow()`**: Raises a number to a power (`pow(x, y)` is equivalent to `x**y`).\n",
    "\n",
    "## 4. String Functions\n",
    "- **`str.upper()`**: Converts a string to uppercase.\n",
    "- **`str.lower()`**: Converts a string to lowercase.\n",
    "- **`str.split()`**: Splits a string into a list based on a specified separator.\n",
    "- **`str.join()`**: Joins elements of a list into a single string with a specified separator.\n",
    "\n",
    "## 5. Input and Output Functions\n",
    "- **`print()`**: Outputs data to the standard output (e.g., console).\n",
    "- **`input()`**: Reads input from the user as a string.\n",
    "\n",
    "## 6. File Handling Functions\n",
    "- **`open()`**: Opens a file and returns a file object.\n",
    "  - Example modes: `'r'` (read), `'w'` (write), `'a'` (append), `'rb'` (read binary).\n",
    "\n",
    "## 7. Iteration and Filtering Functions\n",
    "- **`range()`**: Generates a sequence of numbers, often used in loops.\n",
    "- **`map()`**: Applies a function to all items in an input list (or iterable).\n",
    "- **`filter()`**: Filters elements of an iterable based on a function that returns `True` or `False`.\n",
    "- **`zip()`**: Combines two or more iterables (e.g., lists) into tuples.\n",
    "\n",
    "## 8. Miscellaneous Functions\n",
    "- **`len()`**: Returns the length of an object.\n",
    "- **`id()`**: Returns the identity (unique ID) of an object.\n",
    "- **`help()`**: Provides documentation or help for a function/module.\n",
    "- **`dir()`**: Returns a list of the attributes and methods of an object.\n",
    "- **`sorted()`**: Returns a sorted list from the items of any iterable.\n",
    "- **`reversed()`**: Returns a reversed iterator.\n",
    "- **`eval()`**: Evaluates a string as a Python expression and executes it.\n",
    "- **`exec()`**: Executes a dynamically created Python program (string).\n",
    "- **`enumerate()`**: Adds a counter to an iterable and returns it as an enumerate object."
   ]
  },
  {
   "cell_type": "markdown",
   "id": "64d5299b-6a04-4953-9568-faffe2385864",
   "metadata": {},
   "source": [
    "___"
   ]
  },
  {
   "cell_type": "markdown",
   "id": "a307b7a9-ece4-44db-9432-b3c348de6f19",
   "metadata": {},
   "source": [
    "# <div align=\"center\" style=\"color:#f0c020;\">Lists</div>"
   ]
  },
  {
   "cell_type": "code",
   "execution_count": 149,
   "id": "c2d7bd4e-479e-4db2-bd1a-bf4f252447ff",
   "metadata": {},
   "outputs": [],
   "source": [
    "my_list = [1.0,2.0,3.0]"
   ]
  },
  {
   "cell_type": "code",
   "execution_count": 150,
   "id": "de2244d8-85a0-4b38-8257-8cb45e6dcc9d",
   "metadata": {},
   "outputs": [
    {
     "data": {
      "text/plain": [
       "list"
      ]
     },
     "execution_count": 150,
     "metadata": {},
     "output_type": "execute_result"
    }
   ],
   "source": [
    "type(my_list)"
   ]
  },
  {
   "cell_type": "code",
   "execution_count": 151,
   "id": "a3f49ba4-f40e-4979-8356-a92e42ce14cb",
   "metadata": {},
   "outputs": [
    {
     "data": {
      "text/plain": [
       "[1.0, 2.0, 3.0, 1.0, 2.0, 3.0]"
      ]
     },
     "execution_count": 151,
     "metadata": {},
     "output_type": "execute_result"
    }
   ],
   "source": [
    "my_list*2"
   ]
  },
  {
   "cell_type": "code",
   "execution_count": 152,
   "id": "85465564-146a-4393-a482-e8c907ff38e9",
   "metadata": {},
   "outputs": [],
   "source": [
    "my_list = ['A string',23,100.232,'o']"
   ]
  },
  {
   "cell_type": "code",
   "execution_count": 153,
   "id": "c680f463-83c0-4be4-9751-ec706d631b8f",
   "metadata": {},
   "outputs": [
    {
     "data": {
      "text/plain": [
       "4"
      ]
     },
     "execution_count": 153,
     "metadata": {},
     "output_type": "execute_result"
    }
   ],
   "source": [
    "len(my_list)"
   ]
  },
  {
   "cell_type": "code",
   "execution_count": 154,
   "id": "acbbd536-9acf-4f4b-bd11-fce43bfb0161",
   "metadata": {},
   "outputs": [
    {
     "data": {
      "text/plain": [
       "['A string', 23, 100.232, 'o']"
      ]
     },
     "execution_count": 154,
     "metadata": {},
     "output_type": "execute_result"
    }
   ],
   "source": [
    "my_list+['ahmed']\n",
    "my_list"
   ]
  },
  {
   "cell_type": "code",
   "execution_count": 155,
   "id": "5a492ee4-3efa-4099-a283-45cd666ad82b",
   "metadata": {},
   "outputs": [
    {
     "data": {
      "text/plain": [
       "['A string', 23, 100.232, 'o', 'ahmed']"
      ]
     },
     "execution_count": 155,
     "metadata": {},
     "output_type": "execute_result"
    }
   ],
   "source": [
    "my_list=my_list+['ahmed']\n",
    "my_list"
   ]
  },
  {
   "cell_type": "code",
   "execution_count": 156,
   "id": "49b0ba57-12ba-4a70-843c-a8b1d8180405",
   "metadata": {},
   "outputs": [
    {
     "data": {
      "text/plain": [
       "['A string', 23, 100.232, 'o', 'ahmed', 15]"
      ]
     },
     "execution_count": 156,
     "metadata": {},
     "output_type": "execute_result"
    }
   ],
   "source": [
    "my_list.append(15)\n",
    "my_list"
   ]
  },
  {
   "cell_type": "code",
   "execution_count": 157,
   "id": "8ad9523b-ac09-4300-93f8-8b8937138c0b",
   "metadata": {},
   "outputs": [
    {
     "data": {
      "text/plain": [
       "['14', 'A string', 23, 100.232, 'o', 'ahmed', 15]"
      ]
     },
     "execution_count": 157,
     "metadata": {},
     "output_type": "execute_result"
    }
   ],
   "source": [
    "my_list.insert(0,'14')\n",
    "my_list"
   ]
  },
  {
   "cell_type": "code",
   "execution_count": 158,
   "id": "f0914d87-eaf8-4d9d-9e99-d862f0d6bd4a",
   "metadata": {},
   "outputs": [
    {
     "data": {
      "text/plain": [
       "['14', 23, 100.232, 'o', 'ahmed', 15]"
      ]
     },
     "execution_count": 158,
     "metadata": {},
     "output_type": "execute_result"
    }
   ],
   "source": [
    "my_list.remove('A string')\n",
    "my_list"
   ]
  },
  {
   "cell_type": "code",
   "execution_count": 159,
   "id": "a08f93c8-ad3c-4ee0-97c7-ed96653ce545",
   "metadata": {},
   "outputs": [
    {
     "data": {
      "text/plain": [
       "['14', 23, 100.232, 'o', 'ahmed', 15]"
      ]
     },
     "execution_count": 159,
     "metadata": {},
     "output_type": "execute_result"
    }
   ],
   "source": [
    "my_list"
   ]
  },
  {
   "cell_type": "markdown",
   "id": "73ca9af6-01a1-4710-adfe-7dd7cb38cb50",
   "metadata": {},
   "source": [
    "### Indexing and Slicing"
   ]
  },
  {
   "cell_type": "code",
   "execution_count": 161,
   "id": "4f9d88a9-4f2d-4a65-a49c-46fc30bcb68b",
   "metadata": {},
   "outputs": [],
   "source": [
    "my_list = ['one','two','three',4,5]"
   ]
  },
  {
   "cell_type": "code",
   "execution_count": 162,
   "id": "63319b1a-357c-4c45-95b1-39518887fb4c",
   "metadata": {},
   "outputs": [
    {
     "data": {
      "text/plain": [
       "'one'"
      ]
     },
     "execution_count": 162,
     "metadata": {},
     "output_type": "execute_result"
    }
   ],
   "source": [
    "# Grab element at index 0\n",
    "my_list[0]"
   ]
  },
  {
   "cell_type": "code",
   "execution_count": 163,
   "id": "117701c7-8a7f-4c94-ab90-1e2096621dac",
   "metadata": {},
   "outputs": [
    {
     "data": {
      "text/plain": [
       "['two', 'three', 4, 5]"
      ]
     },
     "execution_count": 163,
     "metadata": {},
     "output_type": "execute_result"
    }
   ],
   "source": [
    "# Grab index 1 and everything past it\n",
    "my_list[1:]"
   ]
  },
  {
   "cell_type": "code",
   "execution_count": 164,
   "id": "f7f6819d-0af6-4e63-b93d-cc47d57f6a82",
   "metadata": {},
   "outputs": [
    {
     "data": {
      "text/plain": [
       "['one', 'two', 'three']"
      ]
     },
     "execution_count": 164,
     "metadata": {},
     "output_type": "execute_result"
    }
   ],
   "source": [
    "# Grab everything UP TO index 3\n",
    "my_list[:3]"
   ]
  },
  {
   "cell_type": "code",
   "execution_count": 165,
   "id": "2e0968d1-7475-4130-b250-c747b0feb83d",
   "metadata": {},
   "outputs": [
    {
     "data": {
      "text/plain": [
       "['one', 'two', 'three', 4, 5, 'one', 'two', 'three', 4, 5]"
      ]
     },
     "execution_count": 165,
     "metadata": {},
     "output_type": "execute_result"
    }
   ],
   "source": [
    "# Make the list double\n",
    "my_list * 2"
   ]
  },
  {
   "cell_type": "code",
   "execution_count": 166,
   "id": "4e045fc0-14bc-4d81-8804-228ce9bd64c3",
   "metadata": {},
   "outputs": [
    {
     "data": {
      "text/plain": [
       "['one', 'two', 'three', 4, 5]"
      ]
     },
     "execution_count": 166,
     "metadata": {},
     "output_type": "execute_result"
    }
   ],
   "source": [
    "# Again doubling not permanent\n",
    "my_list"
   ]
  },
  {
   "cell_type": "markdown",
   "id": "ed93fa07-a2ed-4654-9099-ccf6e417327d",
   "metadata": {},
   "source": [
    "### Nesting Lists"
   ]
  },
  {
   "cell_type": "code",
   "execution_count": 168,
   "id": "c1bd6a9c-db66-45cd-95d3-7c377b1fed3d",
   "metadata": {},
   "outputs": [],
   "source": [
    "# Let's make three lists\n",
    "lst_1=[1,2,3]\n",
    "lst_2=[4,5,6]\n",
    "lst_3=[7,8,9]\n",
    "\n",
    "# Make a list of lists to form a matrix (not mathematical matrix)\n",
    "matrix = [lst_1,lst_2,lst_3]"
   ]
  },
  {
   "cell_type": "code",
   "execution_count": 169,
   "id": "e67cedcf-485a-4a74-9d8f-f2b66286ecca",
   "metadata": {},
   "outputs": [
    {
     "data": {
      "text/plain": [
       "[[1, 2, 3], [4, 5, 6], [7, 8, 9]]"
      ]
     },
     "execution_count": 169,
     "metadata": {},
     "output_type": "execute_result"
    }
   ],
   "source": [
    "# Show\n",
    "matrix"
   ]
  },
  {
   "cell_type": "code",
   "execution_count": 170,
   "id": "1a4c8348-1124-4410-8d84-3152f2878bff",
   "metadata": {},
   "outputs": [
    {
     "data": {
      "text/plain": [
       "[1, 2, 3]"
      ]
     },
     "execution_count": 170,
     "metadata": {},
     "output_type": "execute_result"
    }
   ],
   "source": [
    "# Grab first item in matrix object\n",
    "matrix[0]"
   ]
  },
  {
   "cell_type": "code",
   "execution_count": 171,
   "id": "19c5c6e1-8dba-4e55-8291-50c6a5ee4673",
   "metadata": {},
   "outputs": [
    {
     "data": {
      "text/plain": [
       "1"
      ]
     },
     "execution_count": 171,
     "metadata": {},
     "output_type": "execute_result"
    }
   ],
   "source": [
    "# Grab first item of the first item in the matrix object\n",
    "matrix[0][0]"
   ]
  },
  {
   "cell_type": "markdown",
   "id": "70617db4-c096-45b4-be7b-49bbd1748985",
   "metadata": {},
   "source": [
    "___"
   ]
  },
  {
   "cell_type": "markdown",
   "id": "1ac9c0d8-7cc1-4b22-91c4-9f605bd82536",
   "metadata": {},
   "source": [
    "# <div align=\"center\" style=\"color:#f0c020;\">Tuples</div>"
   ]
  },
  {
   "cell_type": "markdown",
   "id": "79da2866-c194-41db-ae38-84c6088f0aeb",
   "metadata": {},
   "source": [
    "### Constructing Tuples"
   ]
  },
  {
   "cell_type": "code",
   "execution_count": 175,
   "id": "359d2a5d-3ffe-475e-8f25-062ea4055044",
   "metadata": {},
   "outputs": [
    {
     "data": {
      "text/plain": [
       "(1, 2, 3)"
      ]
     },
     "execution_count": 175,
     "metadata": {},
     "output_type": "execute_result"
    }
   ],
   "source": [
    "# Create a tuple\n",
    "t = (1,2,3)\n",
    "t"
   ]
  },
  {
   "cell_type": "code",
   "execution_count": 176,
   "id": "f2c22128-7d32-4559-b330-2d5f1626daed",
   "metadata": {},
   "outputs": [
    {
     "data": {
      "text/plain": [
       "3"
      ]
     },
     "execution_count": 176,
     "metadata": {},
     "output_type": "execute_result"
    }
   ],
   "source": [
    "# Check len just like a list\n",
    "len(t)"
   ]
  },
  {
   "cell_type": "code",
   "execution_count": 177,
   "id": "70a22b20-e303-4892-9ae6-bdd4dced1052",
   "metadata": {},
   "outputs": [
    {
     "data": {
      "text/plain": [
       "('one', 2)"
      ]
     },
     "execution_count": 177,
     "metadata": {},
     "output_type": "execute_result"
    }
   ],
   "source": [
    "# Can also mix object types\n",
    "t = ('one',2)\n",
    "\n",
    "# Show\n",
    "t"
   ]
  },
  {
   "cell_type": "code",
   "execution_count": 178,
   "id": "cb3553fc-e4de-4dc2-a2ca-71728caa8b4f",
   "metadata": {},
   "outputs": [
    {
     "data": {
      "text/plain": [
       "'one'"
      ]
     },
     "execution_count": 178,
     "metadata": {},
     "output_type": "execute_result"
    }
   ],
   "source": [
    "# Use indexing just like we did in lists\n",
    "t[0]"
   ]
  },
  {
   "cell_type": "code",
   "execution_count": 179,
   "id": "2c271425-aca3-4dc0-a585-d4e0a8e7c5e3",
   "metadata": {},
   "outputs": [
    {
     "data": {
      "text/plain": [
       "2"
      ]
     },
     "execution_count": 179,
     "metadata": {},
     "output_type": "execute_result"
    }
   ],
   "source": [
    "# Slicing just like a list\n",
    "t[-1]"
   ]
  },
  {
   "cell_type": "markdown",
   "id": "1ebdefae-c0b3-449a-89e2-af9704d05cf8",
   "metadata": {},
   "source": [
    "## Immutability\n",
    "\n",
    "##### It can't be stressed enough that tuples are immutable."
   ]
  },
  {
   "cell_type": "code",
   "execution_count": 181,
   "id": "8a79d991-a888-4cf2-b14e-a96c5c62daac",
   "metadata": {},
   "outputs": [],
   "source": [
    "# t[0]= 'ahmed'"
   ]
  },
  {
   "cell_type": "code",
   "execution_count": 182,
   "id": "cdb03012-e5d7-44d7-adff-ec5c8d29ffb8",
   "metadata": {},
   "outputs": [],
   "source": [
    "# t.append('nope')"
   ]
  },
  {
   "cell_type": "code",
   "execution_count": 183,
   "id": "173f8171-1bc4-434e-8710-b35cd49c8a06",
   "metadata": {},
   "outputs": [
    {
     "data": {
      "text/plain": [
       "['one', 2]"
      ]
     },
     "execution_count": 183,
     "metadata": {},
     "output_type": "execute_result"
    }
   ],
   "source": [
    "x=list(t)\n",
    "x"
   ]
  },
  {
   "cell_type": "code",
   "execution_count": 184,
   "id": "12b95bc6-9581-451c-98d5-5c2d0d061c3f",
   "metadata": {},
   "outputs": [
    {
     "data": {
      "text/plain": [
       "['one', 2, 'ahmed']"
      ]
     },
     "execution_count": 184,
     "metadata": {},
     "output_type": "execute_result"
    }
   ],
   "source": [
    "x.append('ahmed')\n",
    "x"
   ]
  },
  {
   "cell_type": "code",
   "execution_count": 185,
   "id": "37f6b582-90cf-4c97-ad47-ff69fbfd5653",
   "metadata": {},
   "outputs": [],
   "source": [
    "t=tuple(x)"
   ]
  },
  {
   "cell_type": "code",
   "execution_count": 186,
   "id": "ac9d97fc-9220-4e11-81f6-0c399801d559",
   "metadata": {},
   "outputs": [
    {
     "data": {
      "text/plain": [
       "('one', 2, 'ahmed')"
      ]
     },
     "execution_count": 186,
     "metadata": {},
     "output_type": "execute_result"
    }
   ],
   "source": [
    "t"
   ]
  },
  {
   "cell_type": "markdown",
   "id": "43da91c3-bb21-4d2b-8e16-2493cd4c9f9e",
   "metadata": {},
   "source": [
    "___"
   ]
  },
  {
   "cell_type": "markdown",
   "id": "8781a389-a7cd-4350-93f4-3f65a1cb0f50",
   "metadata": {},
   "source": [
    "# <div align=\"center\" style=\"color:#f0c020;\">List vs Tuple vs Dictionary</div>"
   ]
  },
  {
   "cell_type": "markdown",
   "id": "a9328ec1-fb68-48c4-867d-17c8b903260a",
   "metadata": {},
   "source": [
    "In Python, lists, tuples, and dictionaries differ in mutability, performance, and syntax. Here's a comparison:\n",
    "\n",
    "| Feature           | List                                      | Tuple                                  | Dictionary                            |\n",
    "|-------------------|-------------------------------------------|----------------------------------------|---------------------------------------|\n",
    "| **Mutability**     | Mutable (can be changed)                 | Immutable (cannot be changed)          | Mutable (can change values, add/remove items) |\n",
    "| **Syntax**         | `[]` (square brackets)                   | `()` (parentheses)                     | `{}` (curly braces)                   |\n",
    "| **Performance**    | Slower (due to mutability)               | Faster (due to immutability)           | Slower (due to hashing and key lookup) |\n",
    "| **Methods**        | Many methods (`append()`, `remove()`, etc.) | Fewer methods (`count()`, `index()`)  | Many methods (`get()`, `items()`, `keys()`, `values()`) |\n",
    "| **Memory**         | More memory-intensive                    | Memory-efficient                       | Memory-intensive due to key-value storage |\n",
    "| **Use cases**      | Dynamic data, modifiable collections     | Constant, fixed collections            | Key-value pair mapping, fast lookups by keys |\n",
    "| **Hashability**    | Not hashable                             | Hashable (can be used as dict keys)    | Keys are hashable (values can be any data type) |\n",
    "| **Iteration**      | Can iterate over items                   | Can iterate over items                 | Can iterate over keys, values, or items (key-value pairs) |"
   ]
  },
  {
   "cell_type": "markdown",
   "id": "8ef1d617-5d9f-4a9e-91ee-78d2c980f37e",
   "metadata": {},
   "source": [
    "___"
   ]
  }
 ],
 "metadata": {
  "kernelspec": {
   "display_name": "Python 3 (ipykernel)",
   "language": "python",
   "name": "python3"
  },
  "language_info": {
   "codemirror_mode": {
    "name": "ipython",
    "version": 3
   },
   "file_extension": ".py",
   "mimetype": "text/x-python",
   "name": "python",
   "nbconvert_exporter": "python",
   "pygments_lexer": "ipython3",
   "version": "3.12.4"
  }
 },
 "nbformat": 4,
 "nbformat_minor": 5
}
